{
 "cells": [
  {
   "cell_type": "markdown",
   "metadata": {},
   "source": [
    "### Next work prediction using LSTM"
   ]
  },
  {
   "cell_type": "code",
   "execution_count": 2,
   "metadata": {},
   "outputs": [
    {
     "name": "stderr",
     "output_type": "stream",
     "text": [
      "[nltk_data] Downloading package gutenberg to\n",
      "[nltk_data]     C:\\Users\\hsingh\\AppData\\Roaming\\nltk_data...\n",
      "[nltk_data]   Package gutenberg is already up-to-date!\n"
     ]
    }
   ],
   "source": [
    "## Data Collection\n",
    "import nltk\n",
    "nltk.download('gutenberg')\n",
    "from nltk.corpus import gutenberg\n",
    "import pandas as pd\n",
    "\n",
    "## Load dataset\n",
    "data = gutenberg.raw('shakespeare-hamlet.txt')\n",
    "\n",
    "\n",
    "with open('hamlet.txt', 'w') as file:\n",
    "    file.write(data)"
   ]
  },
  {
   "cell_type": "code",
   "execution_count": 9,
   "metadata": {},
   "outputs": [
    {
     "data": {
      "text/plain": [
       "4818"
      ]
     },
     "execution_count": 9,
     "metadata": {},
     "output_type": "execute_result"
    }
   ],
   "source": [
    "## Data preprocessing\n",
    "import numpy as np\n",
    "from tensorflow.keras.preprocessing.text import Tokenizer\n",
    "from tensorflow.keras.preprocessing.sequence import pad_sequences\n",
    "from sklearn.model_selection import train_test_split\n",
    "\n",
    "## Load dataset\n",
    "with open('hamlet.txt', 'r') as file:\n",
    "    text = file.read().lower()\n",
    "\n",
    "## Tokenize the text\n",
    "tokenizer = Tokenizer()\n",
    "tokenizer.fit_on_texts([text])\n",
    "total_words = len(tokenizer.word_index) + 1\n",
    "total_words"
   ]
  },
  {
   "cell_type": "code",
   "execution_count": 10,
   "metadata": {},
   "outputs": [
    {
     "data": {
      "text/plain": [
       "[[1, 687],\n",
       " [1, 687, 4],\n",
       " [1, 687, 4, 45],\n",
       " [1, 687, 4, 45, 41],\n",
       " [1, 687, 4, 45, 41, 1886],\n",
       " [1, 687, 4, 45, 41, 1886, 1887],\n",
       " [1, 687, 4, 45, 41, 1886, 1887, 1888],\n",
       " [1180, 1889],\n",
       " [1180, 1889, 1890],\n",
       " [1180, 1889, 1890, 1891]]"
      ]
     },
     "execution_count": 10,
     "metadata": {},
     "output_type": "execute_result"
    }
   ],
   "source": [
    "## Create input sequences\n",
    "input_sequences = []\n",
    "for line in text.split('\\n'):\n",
    "    token_list = tokenizer.texts_to_sequences([line])[0]\n",
    "    for i in range(1, len(token_list)):\n",
    "        n_gram_sequence = token_list[:i+1]\n",
    "        input_sequences.append(n_gram_sequence)\n",
    "\n",
    "input_sequences[:10]"
   ]
  },
  {
   "cell_type": "code",
   "execution_count": 13,
   "metadata": {},
   "outputs": [
    {
     "data": {
      "text/plain": [
       "array([[   0,    0,    0,    0,    0,    0,    0,    0,    0,    0,    0,\n",
       "           0,    1,  687],\n",
       "       [   0,    0,    0,    0,    0,    0,    0,    0,    0,    0,    0,\n",
       "           1,  687,    4],\n",
       "       [   0,    0,    0,    0,    0,    0,    0,    0,    0,    0,    1,\n",
       "         687,    4,   45],\n",
       "       [   0,    0,    0,    0,    0,    0,    0,    0,    0,    1,  687,\n",
       "           4,   45,   41],\n",
       "       [   0,    0,    0,    0,    0,    0,    0,    0,    1,  687,    4,\n",
       "          45,   41, 1886],\n",
       "       [   0,    0,    0,    0,    0,    0,    0,    1,  687,    4,   45,\n",
       "          41, 1886, 1887],\n",
       "       [   0,    0,    0,    0,    0,    0,    1,  687,    4,   45,   41,\n",
       "        1886, 1887, 1888],\n",
       "       [   0,    0,    0,    0,    0,    0,    0,    0,    0,    0,    0,\n",
       "           0, 1180, 1889],\n",
       "       [   0,    0,    0,    0,    0,    0,    0,    0,    0,    0,    0,\n",
       "        1180, 1889, 1890],\n",
       "       [   0,    0,    0,    0,    0,    0,    0,    0,    0,    0, 1180,\n",
       "        1889, 1890, 1891]])"
      ]
     },
     "execution_count": 13,
     "metadata": {},
     "output_type": "execute_result"
    }
   ],
   "source": [
    "## Pad sequences\n",
    "max_sequence_length = max([len(x) for x in input_sequences])\n",
    "input_sequences = np.array(pad_sequences(input_sequences, maxlen=max_sequence_length, padding='pre'))\n",
    "input_sequences[:10]"
   ]
  },
  {
   "cell_type": "code",
   "execution_count": 14,
   "metadata": {},
   "outputs": [
    {
     "data": {
      "text/plain": [
       "array([[   0,    0,    0, ...,    0,    0,    1],\n",
       "       [   0,    0,    0, ...,    0,    1,  687],\n",
       "       [   0,    0,    0, ...,    1,  687,    4],\n",
       "       ...,\n",
       "       [   0,    0,    0, ...,  687,    4,   45],\n",
       "       [   0,    0,    0, ...,    4,   45, 1047],\n",
       "       [   0,    0,    0, ...,   45, 1047,    4]])"
      ]
     },
     "execution_count": 14,
     "metadata": {},
     "output_type": "execute_result"
    }
   ],
   "source": [
    "## Create predictors and label\n",
    "import tensorflow as tf\n",
    "x,y = input_sequences[:,:-1], input_sequences[:,-1]\n",
    "x"
   ]
  },
  {
   "cell_type": "code",
   "execution_count": 15,
   "metadata": {},
   "outputs": [
    {
     "data": {
      "text/plain": [
       "array([ 687,    4,   45, ..., 1047,    4,  193])"
      ]
     },
     "execution_count": 15,
     "metadata": {},
     "output_type": "execute_result"
    }
   ],
   "source": [
    "y"
   ]
  },
  {
   "cell_type": "code",
   "execution_count": 17,
   "metadata": {},
   "outputs": [
    {
     "data": {
      "text/plain": [
       "array([[0., 0., 0., ..., 0., 0., 0.],\n",
       "       [0., 0., 0., ..., 0., 0., 0.],\n",
       "       [0., 0., 0., ..., 0., 0., 0.],\n",
       "       ...,\n",
       "       [0., 0., 0., ..., 0., 0., 0.],\n",
       "       [0., 0., 0., ..., 0., 0., 0.],\n",
       "       [0., 0., 0., ..., 0., 0., 0.]], dtype=float32)"
      ]
     },
     "execution_count": 17,
     "metadata": {},
     "output_type": "execute_result"
    }
   ],
   "source": [
    "y = tf.keras.utils.to_categorical(y,num_classes=total_words)\n",
    "y"
   ]
  },
  {
   "cell_type": "code",
   "execution_count": 18,
   "metadata": {},
   "outputs": [],
   "source": [
    "## Split the dataset\n",
    "x_train, x_test, y_train, y_test = train_test_split(x, y, test_size=0.2, random_state=42)"
   ]
  },
  {
   "cell_type": "code",
   "execution_count": null,
   "metadata": {},
   "outputs": [],
   "source": [
    "## Early stopping\n",
    "from tensorflow.keras.callbacks import EarlyStopping\n",
    "early_stopping = EarlyStopping(monitor='val_loss', patience=5, restore_best_weights=True)"
   ]
  },
  {
   "cell_type": "code",
   "execution_count": 21,
   "metadata": {},
   "outputs": [
    {
     "name": "stdout",
     "output_type": "stream",
     "text": [
      "Model: \"sequential_1\"\n",
      "_________________________________________________________________\n",
      " Layer (type)                Output Shape              Param #   \n",
      "=================================================================\n",
      " embedding_1 (Embedding)     (None, 13, 100)           481800    \n",
      "                                                                 \n",
      " lstm_2 (LSTM)               (None, 13, 150)           150600    \n",
      "                                                                 \n",
      " dropout_1 (Dropout)         (None, 13, 150)           0         \n",
      "                                                                 \n",
      " lstm_3 (LSTM)               (None, 100)               100400    \n",
      "                                                                 \n",
      " dense_1 (Dense)             (None, 4818)              486618    \n",
      "                                                                 \n",
      "=================================================================\n",
      "Total params: 1219418 (4.65 MB)\n",
      "Trainable params: 1219418 (4.65 MB)\n",
      "Non-trainable params: 0 (0.00 Byte)\n",
      "_________________________________________________________________\n"
     ]
    }
   ],
   "source": [
    "## Train LSTM RNN\n",
    "from tensorflow.keras.models import Sequential\n",
    "from tensorflow.keras.layers import Embedding, LSTM, Dense, Dropout\n",
    "\n",
    "model = Sequential()\n",
    "model.add(Embedding(total_words, 100, input_length=max_sequence_length-1))\n",
    "model.add(LSTM(150, return_sequences=True))\n",
    "model.add(Dropout(0.2))\n",
    "model.add(LSTM(100))\n",
    "model.add(Dense(total_words, activation='softmax'))\n",
    "\n",
    "## Compile the model\n",
    "model.compile(loss='categorical_crossentropy', optimizer='adam', metrics=['accuracy'])\n",
    "\n",
    "model.summary()"
   ]
  },
  {
   "cell_type": "code",
   "execution_count": 22,
   "metadata": {},
   "outputs": [
    {
     "name": "stdout",
     "output_type": "stream",
     "text": [
      "Epoch 1/50\n",
      "WARNING:tensorflow:From c:\\Users\\hsingh\\OneDrive - INVIDI Technologies Corp\\machine learning\\machine-learning\\myenv\\Lib\\site-packages\\keras\\src\\utils\\tf_utils.py:492: The name tf.ragged.RaggedTensorValue is deprecated. Please use tf.compat.v1.ragged.RaggedTensorValue instead.\n",
      "\n",
      "WARNING:tensorflow:From c:\\Users\\hsingh\\OneDrive - INVIDI Technologies Corp\\machine learning\\machine-learning\\myenv\\Lib\\site-packages\\keras\\src\\engine\\base_layer_utils.py:384: The name tf.executing_eagerly_outside_functions is deprecated. Please use tf.compat.v1.executing_eagerly_outside_functions instead.\n",
      "\n",
      "644/644 [==============================] - 45s 58ms/step - loss: 6.9132 - accuracy: 0.0333 - val_loss: 6.6976 - val_accuracy: 0.0356\n",
      "Epoch 2/50\n",
      "644/644 [==============================] - 18s 28ms/step - loss: 6.4775 - accuracy: 0.0390 - val_loss: 6.7558 - val_accuracy: 0.0414\n",
      "Epoch 3/50\n",
      "644/644 [==============================] - 18s 28ms/step - loss: 6.3288 - accuracy: 0.0472 - val_loss: 6.7969 - val_accuracy: 0.0482\n",
      "Epoch 4/50\n",
      "644/644 [==============================] - 17s 27ms/step - loss: 6.1845 - accuracy: 0.0522 - val_loss: 6.8229 - val_accuracy: 0.0488\n",
      "Epoch 5/50\n",
      "644/644 [==============================] - 19s 29ms/step - loss: 6.0427 - accuracy: 0.0571 - val_loss: 6.8512 - val_accuracy: 0.0567\n",
      "Epoch 6/50\n",
      "644/644 [==============================] - 20s 31ms/step - loss: 5.8956 - accuracy: 0.0634 - val_loss: 6.9263 - val_accuracy: 0.0571\n",
      "Epoch 7/50\n",
      "644/644 [==============================] - 24s 37ms/step - loss: 5.7534 - accuracy: 0.0721 - val_loss: 6.9412 - val_accuracy: 0.0655\n",
      "Epoch 8/50\n",
      "644/644 [==============================] - 28s 43ms/step - loss: 5.6229 - accuracy: 0.0802 - val_loss: 7.0066 - val_accuracy: 0.0647\n",
      "Epoch 9/50\n",
      "644/644 [==============================] - 22s 34ms/step - loss: 5.4977 - accuracy: 0.0851 - val_loss: 7.0855 - val_accuracy: 0.0624\n",
      "Epoch 10/50\n",
      "644/644 [==============================] - 23s 35ms/step - loss: 5.3752 - accuracy: 0.0916 - val_loss: 7.1677 - val_accuracy: 0.0659\n",
      "Epoch 11/50\n",
      "644/644 [==============================] - 23s 36ms/step - loss: 5.2542 - accuracy: 0.0979 - val_loss: 7.2428 - val_accuracy: 0.0674\n",
      "Epoch 12/50\n",
      "644/644 [==============================] - 21s 32ms/step - loss: 5.1322 - accuracy: 0.1035 - val_loss: 7.3762 - val_accuracy: 0.0666\n",
      "Epoch 13/50\n",
      "644/644 [==============================] - 20s 32ms/step - loss: 5.0125 - accuracy: 0.1114 - val_loss: 7.4441 - val_accuracy: 0.0651\n",
      "Epoch 14/50\n",
      "644/644 [==============================] - 20s 32ms/step - loss: 4.8953 - accuracy: 0.1168 - val_loss: 7.5548 - val_accuracy: 0.0641\n",
      "Epoch 15/50\n",
      "644/644 [==============================] - 21s 32ms/step - loss: 4.7811 - accuracy: 0.1179 - val_loss: 7.6979 - val_accuracy: 0.0664\n",
      "Epoch 16/50\n",
      "644/644 [==============================] - 20s 31ms/step - loss: 4.6714 - accuracy: 0.1256 - val_loss: 7.8458 - val_accuracy: 0.0645\n",
      "Epoch 17/50\n",
      "644/644 [==============================] - 20s 31ms/step - loss: 4.5639 - accuracy: 0.1320 - val_loss: 7.9544 - val_accuracy: 0.0678\n",
      "Epoch 18/50\n",
      "644/644 [==============================] - 21s 33ms/step - loss: 4.4580 - accuracy: 0.1388 - val_loss: 8.1057 - val_accuracy: 0.0655\n",
      "Epoch 19/50\n",
      "644/644 [==============================] - 20s 31ms/step - loss: 4.3581 - accuracy: 0.1469 - val_loss: 8.2323 - val_accuracy: 0.0635\n",
      "Epoch 20/50\n",
      "644/644 [==============================] - 20s 31ms/step - loss: 4.2608 - accuracy: 0.1567 - val_loss: 8.3805 - val_accuracy: 0.0635\n",
      "Epoch 21/50\n",
      "644/644 [==============================] - 20s 31ms/step - loss: 4.1627 - accuracy: 0.1643 - val_loss: 8.4774 - val_accuracy: 0.0626\n",
      "Epoch 22/50\n",
      "644/644 [==============================] - 20s 32ms/step - loss: 4.0672 - accuracy: 0.1751 - val_loss: 8.6135 - val_accuracy: 0.0571\n",
      "Epoch 23/50\n",
      "644/644 [==============================] - 21s 32ms/step - loss: 3.9806 - accuracy: 0.1892 - val_loss: 8.7797 - val_accuracy: 0.0606\n",
      "Epoch 24/50\n",
      "644/644 [==============================] - 20s 32ms/step - loss: 3.8993 - accuracy: 0.2019 - val_loss: 8.9078 - val_accuracy: 0.0598\n",
      "Epoch 25/50\n",
      "644/644 [==============================] - 22s 34ms/step - loss: 3.8138 - accuracy: 0.2166 - val_loss: 9.0220 - val_accuracy: 0.0604\n",
      "Epoch 26/50\n",
      "644/644 [==============================] - 24s 37ms/step - loss: 3.7381 - accuracy: 0.2290 - val_loss: 9.1609 - val_accuracy: 0.0581\n",
      "Epoch 27/50\n",
      "644/644 [==============================] - 22s 35ms/step - loss: 3.6686 - accuracy: 0.2414 - val_loss: 9.2450 - val_accuracy: 0.0583\n",
      "Epoch 28/50\n",
      "644/644 [==============================] - 19s 29ms/step - loss: 3.5964 - accuracy: 0.2541 - val_loss: 9.3810 - val_accuracy: 0.0616\n",
      "Epoch 29/50\n",
      "644/644 [==============================] - 30s 46ms/step - loss: 3.5297 - accuracy: 0.2635 - val_loss: 9.4565 - val_accuracy: 0.0606\n",
      "Epoch 30/50\n",
      "644/644 [==============================] - 23s 36ms/step - loss: 3.4628 - accuracy: 0.2800 - val_loss: 9.5812 - val_accuracy: 0.0560\n",
      "Epoch 31/50\n",
      "644/644 [==============================] - 21s 33ms/step - loss: 3.3993 - accuracy: 0.2907 - val_loss: 9.6684 - val_accuracy: 0.0573\n",
      "Epoch 32/50\n",
      "644/644 [==============================] - 22s 35ms/step - loss: 3.3404 - accuracy: 0.2990 - val_loss: 9.7869 - val_accuracy: 0.0596\n",
      "Epoch 33/50\n",
      "644/644 [==============================] - 18s 28ms/step - loss: 3.2783 - accuracy: 0.3093 - val_loss: 9.9006 - val_accuracy: 0.0558\n",
      "Epoch 34/50\n",
      "644/644 [==============================] - 18s 28ms/step - loss: 3.2305 - accuracy: 0.3181 - val_loss: 9.9803 - val_accuracy: 0.0583\n",
      "Epoch 35/50\n",
      "644/644 [==============================] - 19s 30ms/step - loss: 3.1780 - accuracy: 0.3253 - val_loss: 10.0907 - val_accuracy: 0.0596\n",
      "Epoch 36/50\n",
      "644/644 [==============================] - 19s 29ms/step - loss: 3.1232 - accuracy: 0.3356 - val_loss: 10.1735 - val_accuracy: 0.0550\n",
      "Epoch 37/50\n",
      "644/644 [==============================] - 20s 32ms/step - loss: 3.0702 - accuracy: 0.3450 - val_loss: 10.2651 - val_accuracy: 0.0581\n",
      "Epoch 38/50\n",
      "644/644 [==============================] - 18s 27ms/step - loss: 3.0222 - accuracy: 0.3530 - val_loss: 10.3467 - val_accuracy: 0.0560\n",
      "Epoch 39/50\n",
      "644/644 [==============================] - 18s 27ms/step - loss: 2.9768 - accuracy: 0.3622 - val_loss: 10.4221 - val_accuracy: 0.0565\n",
      "Epoch 40/50\n",
      "644/644 [==============================] - 19s 29ms/step - loss: 2.9291 - accuracy: 0.3697 - val_loss: 10.5224 - val_accuracy: 0.0550\n",
      "Epoch 41/50\n",
      "644/644 [==============================] - 19s 30ms/step - loss: 2.8795 - accuracy: 0.3786 - val_loss: 10.5963 - val_accuracy: 0.0527\n",
      "Epoch 42/50\n",
      "644/644 [==============================] - 19s 29ms/step - loss: 2.8429 - accuracy: 0.3864 - val_loss: 10.6483 - val_accuracy: 0.0558\n",
      "Epoch 43/50\n",
      "644/644 [==============================] - 19s 29ms/step - loss: 2.8014 - accuracy: 0.3963 - val_loss: 10.7128 - val_accuracy: 0.0527\n",
      "Epoch 44/50\n",
      "644/644 [==============================] - 19s 29ms/step - loss: 2.7550 - accuracy: 0.4005 - val_loss: 10.8043 - val_accuracy: 0.0571\n",
      "Epoch 45/50\n",
      "644/644 [==============================] - 19s 29ms/step - loss: 2.7205 - accuracy: 0.4105 - val_loss: 10.8679 - val_accuracy: 0.0542\n",
      "Epoch 46/50\n",
      "644/644 [==============================] - 19s 29ms/step - loss: 2.6799 - accuracy: 0.4126 - val_loss: 10.9330 - val_accuracy: 0.0565\n",
      "Epoch 47/50\n",
      "644/644 [==============================] - 19s 30ms/step - loss: 2.6398 - accuracy: 0.4267 - val_loss: 11.0056 - val_accuracy: 0.0575\n",
      "Epoch 48/50\n",
      "644/644 [==============================] - 21s 32ms/step - loss: 2.6077 - accuracy: 0.4296 - val_loss: 11.0760 - val_accuracy: 0.0538\n",
      "Epoch 49/50\n",
      "644/644 [==============================] - 20s 30ms/step - loss: 2.5645 - accuracy: 0.4379 - val_loss: 11.1798 - val_accuracy: 0.0542\n",
      "Epoch 50/50\n",
      "644/644 [==============================] - 18s 28ms/step - loss: 2.5330 - accuracy: 0.4445 - val_loss: 11.2195 - val_accuracy: 0.0538\n"
     ]
    }
   ],
   "source": [
    "## Train model\n",
    "history = model.fit(x_train, y_train, epochs=50, validation_data=(x_test, y_test), verbose=1)"
   ]
  },
  {
   "cell_type": "code",
   "execution_count": 23,
   "metadata": {},
   "outputs": [],
   "source": [
    "# Function to predict the next word\n",
    "def predict_next_word(model, tokenizer, text, max_sequence_len):\n",
    "    token_list = tokenizer.texts_to_sequences([text])[0]\n",
    "    if len(token_list) >= max_sequence_len:\n",
    "        token_list = token_list[-(max_sequence_len-1):]  # Ensure the sequence length matches max_sequence_len-1\n",
    "    token_list = pad_sequences([token_list], maxlen=max_sequence_len-1, padding='pre')\n",
    "    predicted = model.predict(token_list, verbose=0)\n",
    "    predicted_word_index = np.argmax(predicted, axis=1)\n",
    "    for word, index in tokenizer.word_index.items():\n",
    "        if index == predicted_word_index:\n",
    "            return word\n",
    "    return None"
   ]
  },
  {
   "cell_type": "code",
   "execution_count": 28,
   "metadata": {},
   "outputs": [
    {
     "name": "stdout",
     "output_type": "stream",
     "text": [
      "Input test: Mar. Thus twice before, and iust at this dead\n",
      "Next word: houre\n"
     ]
    }
   ],
   "source": [
    "input_text = \"Mar. Thus twice before, and iust at this dead\"\n",
    "print(f\"Input test: {input_text}\")\n",
    "max_sequence_len = model.input_shape[1]+1\n",
    "next_word = predict_next_word(model, tokenizer, text=input_text, max_sequence_len=max_sequence_len)\n",
    "print(f\"Next word: {next_word}\")"
   ]
  },
  {
   "cell_type": "code",
   "execution_count": 29,
   "metadata": {},
   "outputs": [
    {
     "name": "stderr",
     "output_type": "stream",
     "text": [
      "c:\\Users\\hsingh\\OneDrive - INVIDI Technologies Corp\\machine learning\\machine-learning\\myenv\\Lib\\site-packages\\keras\\src\\engine\\training.py:3103: UserWarning: You are saving your model as an HDF5 file via `model.save()`. This file format is considered legacy. We recommend using instead the native Keras format, e.g. `model.save('my_model.keras')`.\n",
      "  saving_api.save_model(\n"
     ]
    }
   ],
   "source": [
    "## Save the model\n",
    "model.save('next_word_lstm.h5')\n",
    "\n",
    "import pickle\n",
    "with open('tokenizer.pickle', 'wb') as handle:\n",
    "    pickle.dump(tokenizer, handle, protocol=pickle.HIGHEST_PROTOCOL)"
   ]
  }
 ],
 "metadata": {
  "kernelspec": {
   "display_name": "Python 3",
   "language": "python",
   "name": "python3"
  },
  "language_info": {
   "codemirror_mode": {
    "name": "ipython",
    "version": 3
   },
   "file_extension": ".py",
   "mimetype": "text/x-python",
   "name": "python",
   "nbconvert_exporter": "python",
   "pygments_lexer": "ipython3",
   "version": "3.11.0"
  }
 },
 "nbformat": 4,
 "nbformat_minor": 2
}
