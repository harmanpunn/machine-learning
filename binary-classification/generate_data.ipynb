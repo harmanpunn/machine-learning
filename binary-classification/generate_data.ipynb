{
 "cells": [
  {
   "cell_type": "code",
   "execution_count": 10,
   "metadata": {},
   "outputs": [],
   "source": [
    "import pandas as pd\n",
    "import numpy as np\n",
    "import matplotlib.pyplot as plt\n",
    "import seaborn as sns\n",
    "from sklearn.metrics import mean_squared_error, mean_absolute_error, r2_score"
   ]
  },
  {
   "cell_type": "code",
   "execution_count": 11,
   "metadata": {},
   "outputs": [
    {
     "name": "stdout",
     "output_type": "stream",
     "text": [
      "Training, validation, and test datasets have been generated and saved.\n"
     ]
    }
   ],
   "source": [
    "# Function to generate binary classification dataset with target variable\n",
    "def generate_binary_classification_data(num_samples=10000, num_features=86, random_state=42):\n",
    "    np.random.seed(random_state)\n",
    "    \n",
    "    X = np.random.randint(0, 2, size=(num_samples, num_features))\n",
    "    \n",
    "    # We use a combination of features with different weights\n",
    "    weights = np.random.uniform(0.5, 1.5, size=num_features)\n",
    "    threshold = weights.sum() / 2  # Setting a threshold based on the sum of weights\n",
    "    \n",
    "    # Calculate the weighted sum of all features and determine the class based on the threshold\n",
    "    y = (X @ weights > threshold).astype(int)\n",
    "    \n",
    "    # Create feature names\n",
    "    feature_names = [f'col_{i+1}' for i in range(num_features)]\n",
    "    \n",
    "    # Create a DataFrame with features and target\n",
    "    df = pd.DataFrame(X, columns=feature_names)\n",
    "    df['output'] = y\n",
    "    \n",
    "    return df\n",
    "\n",
    "# Function to generate test data without target variable\n",
    "def generate_test_data(num_samples=2000, num_features=86, random_state=42):\n",
    "    np.random.seed(random_state)\n",
    "    \n",
    "    X = np.random.randint(0, 2, size=(num_samples, num_features))\n",
    "    \n",
    "    # Create feature names\n",
    "    feature_names = [f'col_{i+1}' for i in range(num_features)]\n",
    "    \n",
    "    # Create a DataFrame with features only\n",
    "    test_df = pd.DataFrame(X, columns=feature_names)\n",
    "    \n",
    "    return test_df\n",
    "\n",
    "# Generate training dataset\n",
    "df = generate_binary_classification_data(num_samples=10000)\n",
    "\n",
    "# # Split the data into training and validation sets\n",
    "# X = df.drop('output', axis=1)\n",
    "# y = df['output']\n",
    "\n",
    "# X_train, X_val, y_train, y_val = train_test_split(X, y, test_size=0.2, random_state=42)\n",
    "\n",
    "# # Create training set DataFrame and save\n",
    "# train = pd.concat([X_train, y_train], axis=1)\n",
    "df.to_csv('train.csv', index=False)\n",
    "\n",
    "# # Create validation set DataFrame and save\n",
    "# val = pd.concat([X_val, y_val], axis=1)\n",
    "# val.to_csv('validation.csv', index=False)\n",
    "\n",
    "# # Generate test dataset\n",
    "# test_df = generate_test_data(num_samples=2000)\n",
    "\n",
    "# # Save test data to CSV (without target variable)\n",
    "# test_df.to_csv('test.csv', index=False)\n",
    "\n",
    "print(\"Training, validation, and test datasets have been generated and saved.\")"
   ]
  },
  {
   "cell_type": "code",
   "execution_count": null,
   "metadata": {},
   "outputs": [],
   "source": [
    "# Gee"
   ]
  }
 ],
 "metadata": {
  "kernelspec": {
   "display_name": "Python 3",
   "language": "python",
   "name": "python3"
  },
  "language_info": {
   "codemirror_mode": {
    "name": "ipython",
    "version": 3
   },
   "file_extension": ".py",
   "mimetype": "text/x-python",
   "name": "python",
   "nbconvert_exporter": "python",
   "pygments_lexer": "ipython3",
   "version": "3.12.2"
  }
 },
 "nbformat": 4,
 "nbformat_minor": 2
}
